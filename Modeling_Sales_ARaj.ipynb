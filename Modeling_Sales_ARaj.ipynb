{
 "cells": [
  {
   "cell_type": "code",
   "execution_count": null,
   "id": "56657755",
   "metadata": {},
   "outputs": [],
   "source": [
    "import numpy as np\n",
    "import pandas as pd\n",
    "import seaborn as sns\n",
    "import warnings\n",
    "warnings.filterwarnings(\"ignore\")\n",
    "import matplotlib.pyplot as plt\n",
    "from pandas.plotting import table\n",
    "import plotly.express as px\n",
    "import matplotlib.ticker as mtick"
   ]
  },
  {
   "cell_type": "code",
   "execution_count": null,
   "id": "05fea2ef",
   "metadata": {},
   "outputs": [],
   "source": [
    "import os\n",
    "import warnings\n",
    "warnings.filterwarnings('ignore')\n",
    "import numpy as np\n",
    "import pandas as pd\n",
    "import matplotlib.pyplot as plt\n",
    "plt.style.use('fivethirtyeight')\n",
    "from pylab import rcParams\n",
    "rcParams['figure.figsize'] = 10, 6\n",
    "from statsmodels.tsa.stattools import adfuller\n",
    "from statsmodels.tsa.seasonal import seasonal_decompose\n",
    "from statsmodels.tsa.arima_model import ARIMA\n",
    "from pmdarima.arima import auto_arima\n",
    "from sklearn.metrics import mean_squared_error, mean_absolute_error\n",
    "import math\n",
    "import statsmodels.api as sm\n",
    "import numpy as np"
   ]
  },
  {
   "cell_type": "code",
   "execution_count": null,
   "id": "d204595e",
   "metadata": {},
   "outputs": [],
   "source": [
    "q_data= pd.read_csv(\"qualitative_data_msba.csv\")\n",
    "t_data=pd.read_csv(\"time_series_data_msba.csv\")"
   ]
  },
  {
   "cell_type": "code",
   "execution_count": null,
   "id": "75b1e098",
   "metadata": {},
   "outputs": [],
   "source": [
    "q_data.head()"
   ]
  },
  {
   "cell_type": "code",
   "execution_count": null,
   "id": "a79c91af",
   "metadata": {},
   "outputs": [],
   "source": [
    "t_data.head()"
   ]
  },
  {
   "cell_type": "code",
   "execution_count": null,
   "id": "c2800579",
   "metadata": {},
   "outputs": [],
   "source": [
    "q_data= q_data.drop(\"Unnamed: 0\", axis=1)\n",
    "t_data= t_data.drop(\"Unnamed: 0\", axis=1)"
   ]
  },
  {
   "cell_type": "code",
   "execution_count": null,
   "id": "975d8ee9",
   "metadata": {},
   "outputs": [],
   "source": [
    "#dropping columns with only one and same unique value as they wont contribute to model development\n",
    "q_data.drop(['front_door_count','godfather_s_pizza','car_wash','ev_charging','non_24_hour','self_check_out','diesel'], axis=1,inplace=True)"
   ]
  },
  {
   "cell_type": "code",
   "execution_count": null,
   "id": "212e78a1",
   "metadata": {},
   "outputs": [],
   "source": [
    "q_data.shape"
   ]
  },
  {
   "cell_type": "code",
   "execution_count": null,
   "id": "16531742",
   "metadata": {},
   "outputs": [],
   "source": [
    "cat_col= q_data.select_dtypes(include=\"object\").columns.tolist()\n",
    "cat_col"
   ]
  },
  {
   "cell_type": "code",
   "execution_count": null,
   "id": "eaf1fcbc",
   "metadata": {
    "scrolled": true
   },
   "outputs": [],
   "source": [
    "#checking columns with na values and adding them all to a list\n",
    "columns_with_na = q_data.columns[q_data.isna().any()].tolist()\n",
    "columns_with_na"
   ]
  },
  {
   "cell_type": "code",
   "execution_count": null,
   "id": "3f259fee",
   "metadata": {},
   "outputs": [],
   "source": [
    "#replacing NAs with None\n",
    "for column in columns_with_na:\n",
    "    #mode_value = q_data[column].mode()[0]\n",
    "    q_data[column].fillna(\"None\", inplace=True)"
   ]
  },
  {
   "cell_type": "code",
   "execution_count": null,
   "id": "80d91c21",
   "metadata": {},
   "outputs": [],
   "source": [
    "#verify that there are no na values anymore\n",
    "q_data.columns[q_data.isna().any()].tolist()"
   ]
  },
  {
   "cell_type": "code",
   "execution_count": null,
   "id": "04d4e4d1",
   "metadata": {},
   "outputs": [],
   "source": [
    "cleaned_q_data= q_data"
   ]
  },
  {
   "cell_type": "code",
   "execution_count": null,
   "id": "66f3aab0",
   "metadata": {},
   "outputs": [],
   "source": [
    "#merge\n",
    "df_merged_clean= pd.merge(t_data, cleaned_q_data, on='site_id_msba', how='left')"
   ]
  },
  {
   "cell_type": "code",
   "execution_count": null,
   "id": "37cb3ac1",
   "metadata": {},
   "outputs": [],
   "source": [
    "df_merged_clean['calendar_information.holiday'] = list(map(lambda x: (\n",
    "    1 if x == 'None'\n",
    "    else 0), df_merged_clean['calendar_information.holiday']))"
   ]
  },
  {
   "cell_type": "code",
   "execution_count": null,
   "id": "f481955a",
   "metadata": {},
   "outputs": [],
   "source": [
    "pd.set_option('display.max_columns', None)\n",
    "\n",
    "df_merged_clean.head()"
   ]
  },
  {
   "cell_type": "code",
   "execution_count": null,
   "id": "3e9c925d",
   "metadata": {},
   "outputs": [],
   "source": [
    "from sklearn.preprocessing import LabelEncoder\n",
    "\n",
    "categorical_columns = ['calendar_information.type_of_day', 'ethanol_free',\n",
    "'hi_flow_lanes', 'rv_lanes', 'hi_flow_rv_lanes', 'def', 'cat_scales', 'rv_dumps', 'propane', \n",
    "                       'traditional_forecourt_stack_type', 'rv_lanes_layout', 'rv_lanes_stack_type', 'hi_flow_lanes_layout'\n",
    "                       ,'hi_flow_lanes_stack_type', 'hi_flow_rv_lanes_stack_type']\n",
    "\n",
    "# # Initialize the LabelEncoder\n",
    "label_encoder = LabelEncoder()\n",
    "\n",
    "# # Apply label encoding to each of the specified categorical columns\n",
    "for column in categorical_columns:\n",
    "    df_merged_clean[column] = label_encoder.fit_transform(df_merged_clean[column])"
   ]
  },
  {
   "cell_type": "code",
   "execution_count": null,
   "id": "356145fe",
   "metadata": {},
   "outputs": [],
   "source": [
    "## OHE\n",
    "df_encoded = pd.get_dummies(df_merged_clean, columns=['traditional_forecourt_layout', 'hi_flow_rv_lanes_layout'])"
   ]
  },
  {
   "cell_type": "code",
   "execution_count": null,
   "id": "2a5266ae",
   "metadata": {},
   "outputs": [],
   "source": [
    "pd.set_option('display.max_columns', None)\n",
    "\n",
    "df_encoded.head()"
   ]
  },
  {
   "cell_type": "code",
   "execution_count": null,
   "id": "84893cf6",
   "metadata": {},
   "outputs": [],
   "source": [
    "df_encoded.shape"
   ]
  },
  {
   "cell_type": "code",
   "execution_count": null,
   "id": "25251eb9",
   "metadata": {},
   "outputs": [],
   "source": [
    "df_encoded = df_encoded.sort_values(by=['calendar.calendar_day_date'], ascending=True)"
   ]
  },
  {
   "cell_type": "code",
   "execution_count": null,
   "id": "6bbb4f5d",
   "metadata": {},
   "outputs": [],
   "source": [
    "pd.set_option('display.max_columns', None)\n",
    "\n",
    "df_encoded.head()"
   ]
  },
  {
   "cell_type": "code",
   "execution_count": null,
   "id": "37658ae6",
   "metadata": {},
   "outputs": [],
   "source": [
    "df_encoded.to_csv('unleaded1.csv', index=False)"
   ]
  },
  {
   "cell_type": "code",
   "execution_count": null,
   "id": "0d210acc",
   "metadata": {},
   "outputs": [],
   "source": [
    "df_encoded= pd.read_csv('unleaded1.csv')"
   ]
  },
  {
   "cell_type": "code",
   "execution_count": null,
   "id": "41e685ec",
   "metadata": {},
   "outputs": [],
   "source": [
    "df_encoded.head()"
   ]
  },
  {
   "cell_type": "code",
   "execution_count": null,
   "id": "e6041a73",
   "metadata": {},
   "outputs": [],
   "source": [
    "df_encoded_train= df_encoded.loc[0:13000]\n",
    "df_encoded_test= df_encoded.loc[13001:]"
   ]
  },
  {
   "cell_type": "code",
   "execution_count": null,
   "id": "9c112feb",
   "metadata": {},
   "outputs": [],
   "source": [
    "df_encoded_train.tail()\n"
   ]
  },
  {
   "cell_type": "code",
   "execution_count": null,
   "id": "745e4ad6",
   "metadata": {},
   "outputs": [],
   "source": [
    "df_encoded_test.head()"
   ]
  },
  {
   "cell_type": "code",
   "execution_count": null,
   "id": "2838d95c",
   "metadata": {},
   "outputs": [],
   "source": [
    "#Plot the unleaded sales of Store: site_id_msba=  24535\n",
    "\n",
    "df2 = df_encoded_train[df_encoded_train.site_id_msba==  24535]"
   ]
  },
  {
   "cell_type": "code",
   "execution_count": null,
   "id": "aa61d414",
   "metadata": {},
   "outputs": [],
   "source": [
    "plt.figure(figsize=(10,6))\n",
    "plt.grid(True)\n",
    "plt.xlabel('Dates')\n",
    "plt.ylabel('Unleaded Sales')\n",
    "plt.plot(df2['unleaded'])\n",
    "plt.title('site_id_msba=24535  Unleaded Sales')\n",
    "plt.show()"
   ]
  },
  {
   "cell_type": "markdown",
   "id": "d90ad482",
   "metadata": {},
   "source": [
    "# Test for stationarity\n",
    "Stationarity check is important in time series as we need to check what mathematical operations on the series make it predictable for future. For stationary time series the mean and variance is constant, so it is more predictable compared to non stationary time series. One of the test for stationarity is Augmented Dickey Fuller Test (ADF for short)"
   ]
  },
  {
   "cell_type": "code",
   "execution_count": null,
   "id": "7b9962bb",
   "metadata": {},
   "outputs": [],
   "source": [
    "#Test for stationarity\n",
    "def test_stationarity(timeseries):\n",
    "    #Determing rolling statistics\n",
    "    rolmean = timeseries.rolling(12).mean()\n",
    "    rolstd = timeseries.rolling(12).std()\n",
    "    #Plot rolling statistics:\n",
    "    plt.plot(timeseries, color='blue',label='Original')\n",
    "    plt.plot(rolmean, color='red', label='Rolling Mean')\n",
    "    plt.plot(rolstd, color='black', label = 'Rolling Std')\n",
    "    plt.legend(loc='best')\n",
    "    plt.title('Rolling Mean and Standard Deviation')\n",
    "    plt.show(block=False)\n",
    "    \n",
    "    print(\"Results of Dickey Fuller test\")\n",
    "    adft = adfuller(timeseries,autolag='AIC')\n",
    "    # output for dft will give us without defining what the values are.\n",
    "    #hence we manually write what values does it explains using a for loop\n",
    "    output = pd.Series(adft[0:4],index=['Test Statistics','p-value','No. of lags used','Number of observations used'])\n",
    "    for key,values in adft[4].items():\n",
    "        output['critical value (%s)'%key] =  values\n",
    "    print(output)"
   ]
  },
  {
   "cell_type": "code",
   "execution_count": null,
   "id": "dfd5a5a6",
   "metadata": {},
   "outputs": [],
   "source": [
    "test_stationarity(df2.unleaded)"
   ]
  },
  {
   "cell_type": "markdown",
   "id": "482d325b",
   "metadata": {},
   "source": [
    "##### Based on the low p-value we observe that the time series is stationary"
   ]
  },
  {
   "cell_type": "code",
   "execution_count": null,
   "id": "e86a5ad6",
   "metadata": {},
   "outputs": [],
   "source": [
    "result = seasonal_decompose(df2.unleaded, model='multiplicative', period=1)\n",
    "fig = plt.figure()  \n",
    "fig = result.plot()  \n",
    "fig.set_size_inches(16, 9)"
   ]
  },
  {
   "cell_type": "code",
   "execution_count": null,
   "id": "0ea20c65",
   "metadata": {},
   "outputs": [],
   "source": [
    "from pylab import rcParams\n",
    "rcParams['figure.figsize'] = 10, 6\n",
    "df_log = np.log(df2.unleaded)\n",
    "moving_avg = df_log.rolling(12).mean()\n",
    "std_dev = df_log.rolling(12).std()\n",
    "plt.legend(loc='best')\n",
    "plt.title('Moving Average')\n",
    "plt.plot(std_dev, color =\"black\", label = \"Standard Deviation\")\n",
    "plt.plot(moving_avg, color=\"red\", label = \"Mean\")\n",
    "plt.legend()\n",
    "plt.show()"
   ]
  },
  {
   "cell_type": "code",
   "execution_count": null,
   "id": "3cbdb31b",
   "metadata": {},
   "outputs": [],
   "source": [
    "#split data into train and training set\n",
    "train_data, test_data = df_log[3:int(len(df_log)*0.9)], df_log[int(len(df_log)*0.9):]\n",
    "plt.figure(figsize=(10,6))\n",
    "plt.grid(True)\n",
    "plt.xlabel('Dates')\n",
    "plt.ylabel('Unleaded Prices')\n",
    "plt.plot(df_log, 'green', label='Train data')\n",
    "plt.plot(test_data, 'blue', label='Test data')\n",
    "plt.legend()"
   ]
  },
  {
   "cell_type": "code",
   "execution_count": null,
   "id": "d7db0b42",
   "metadata": {},
   "outputs": [],
   "source": [
    "df3 = df_encoded_train[['calendar_information.type_of_day', 'ethanol_free',\n",
    "'hi_flow_lanes', 'rv_lanes', 'hi_flow_rv_lanes', 'def', 'cat_scales', 'rv_dumps', 'propane', \n",
    "                       'traditional_forecourt_stack_type', 'rv_lanes_layout', 'rv_lanes_stack_type', 'hi_flow_lanes_layout'\n",
    "                       ,'hi_flow_lanes_stack_type', 'hi_flow_rv_lanes_stack_type', 'traditional_forecourt_layout_In-Line', \n",
    " 'traditional_forecourt_layout_Stack', 'hi_flow_rv_lanes_layout_Combo', 'hi_flow_rv_lanes_layout_In-Line', 'hi_flow_rv_lanes_layout_None',\n",
    " 'hi_flow_rv_lanes_layout_Stack']]\n",
    "model_autoARIMA = auto_arima(df_encoded_train.unleaded, start_p=0, start_q=0,\n",
    "                      test='adf',       # use adftest to find             optimal 'd'\n",
    "                      max_p=3, max_q=3, # maximum p and q\n",
    "                      m=1,              # frequency of series\n",
    "                      d=None,           # let model determine 'd'\n",
    "                      seasonal=False,   # No Seasonality\n",
    "                      start_P=0, \n",
    "                      D=0, \n",
    "                      trace=True,\n",
    "                      error_action='ignore',  \n",
    "                      suppress_warnings=True, \n",
    "                      stepwise=True,\n",
    "                      exogenous= df3)\n",
    "print(model_autoARIMA.summary())"
   ]
  },
  {
   "cell_type": "markdown",
   "id": "0f9bc152",
   "metadata": {},
   "source": [
    "## The best model is ARIMA(3,0,0) which means we are describing sales response variable (Y) by combining a 3rd order Auto-Regressive model and a 0th order Moving Average model."
   ]
  },
  {
   "cell_type": "code",
   "execution_count": null,
   "id": "5ba93f64",
   "metadata": {},
   "outputs": [],
   "source": [
    "model_autoARIMA.plot_diagnostics(figsize=(15,8))\n",
    "plt.show()"
   ]
  },
  {
   "cell_type": "markdown",
   "id": "cb36e87b",
   "metadata": {},
   "source": [
    "## Pick the best model for ARIMAX"
   ]
  },
  {
   "cell_type": "code",
   "execution_count": null,
   "id": "39fa04c3",
   "metadata": {},
   "outputs": [],
   "source": [
    "from statsmodels.tsa.statespace.sarimax import SARIMAX\n",
    "model= SARIMAX(df_encoded_train.unleaded, \n",
    " exog=df3,\n",
    " order=(2,0,0),\n",
    " enforce_invertibility=False, enforce_stationarity=False)"
   ]
  },
  {
   "cell_type": "code",
   "execution_count": null,
   "id": "7e58fbc6",
   "metadata": {},
   "outputs": [],
   "source": [
    "df_test2 = df_encoded_test[df_encoded_test.site_id_msba == 24535]"
   ]
  },
  {
   "cell_type": "code",
   "execution_count": null,
   "id": "98ecee3d",
   "metadata": {},
   "outputs": [],
   "source": [
    "df_test2.head()"
   ]
  },
  {
   "cell_type": "code",
   "execution_count": null,
   "id": "3094c80d",
   "metadata": {},
   "outputs": [],
   "source": [
    "df_test2.shape"
   ]
  },
  {
   "cell_type": "code",
   "execution_count": null,
   "id": "6ac3406d",
   "metadata": {},
   "outputs": [],
   "source": [
    "df_test3 = df_test2[['calendar_information.type_of_day', 'ethanol_free',\n",
    "'hi_flow_lanes', 'rv_lanes', 'hi_flow_rv_lanes', 'def', 'cat_scales', 'rv_dumps', 'propane', \n",
    "                       'traditional_forecourt_stack_type', 'rv_lanes_layout', 'rv_lanes_stack_type', 'hi_flow_lanes_layout'\n",
    "                       ,'hi_flow_lanes_stack_type', 'hi_flow_rv_lanes_stack_type', 'traditional_forecourt_layout_In-Line', \n",
    " 'traditional_forecourt_layout_Stack', 'hi_flow_rv_lanes_layout_Combo', 'hi_flow_rv_lanes_layout_In-Line', 'hi_flow_rv_lanes_layout_None',\n",
    " 'hi_flow_rv_lanes_layout_Stack']]"
   ]
  },
  {
   "cell_type": "code",
   "execution_count": null,
   "id": "0c782099",
   "metadata": {},
   "outputs": [],
   "source": [
    "results= model.fit()\n",
    "forecast_1= results.forecast(steps=len(df_test2.site_id_msba), exog=df_test3)"
   ]
  },
  {
   "cell_type": "code",
   "execution_count": null,
   "id": "9c7b61b9",
   "metadata": {},
   "outputs": [],
   "source": [
    "forec= list(forecast_1)"
   ]
  },
  {
   "cell_type": "code",
   "execution_count": null,
   "id": "fd7006b2",
   "metadata": {},
   "outputs": [],
   "source": [
    "forec"
   ]
  },
  {
   "cell_type": "code",
   "execution_count": null,
   "id": "07bbce2b",
   "metadata": {},
   "outputs": [],
   "source": [
    "train_data = df2.unleaded\n",
    "test_data = forecast_1\n",
    "plt.figure(figsize=(10,6))\n",
    "plt.grid(True)\n",
    "plt.xlabel('Dates')\n",
    "plt.ylabel('Unleaded sales')\n",
    "plt.plot(train_data, 'green', label='Train data')\n",
    "plt.plot(test_data, 'blue', label='Test data')\n",
    "plt.legend()"
   ]
  },
  {
   "cell_type": "code",
   "execution_count": null,
   "id": "335ab9b6",
   "metadata": {},
   "outputs": [],
   "source": [
    "import pandas as pd\n",
    "import numpy as np\n",
    "import matplotlib.pyplot as plt\n",
    "from statsmodels.tsa.arima_model import ARIMA\n",
    "\n",
    "\n",
    "\n",
    "# Load your sales data into a Pandas DataFrame\n",
    "# Replace 'your_data.csv' with the actual path to your data file\n",
    "df = pd.read_csv('unleaded1.csv')\n",
    "df['date'] = pd.to_datetime(df['calendar.calendar_day_date'])\n",
    "df.set_index('date', inplace=True)\n",
    "\n",
    "# Visualize your sales data\n",
    "plt.figure(figsize=(12, 6))\n",
    "plt.plot(df['unleaded'])\n",
    "plt.title('Sales Data')\n",
    "plt.xlabel('Date')\n",
    "plt.ylabel('Unleaded Sales')\n",
    "plt.show()"
   ]
  },
  {
   "cell_type": "code",
   "execution_count": null,
   "id": "4aa0d8a9",
   "metadata": {},
   "outputs": [],
   "source": [
    "from statsmodels.tsa.arima.model import ARIMA\n",
    "# Fit an ARIMA model\n",
    "p = 3  # Autoregressive order\n",
    "d = 0  # Differencing order\n",
    "q = 0  # Moving average order\n",
    "\n",
    "model = ARIMA(df_encoded['unleaded'], order=(p, d, q))\n",
    "model_fit = model.fit()\n",
    "\n",
    "# Forecast the next 12 months\n",
    "forecast_steps = 365\n",
    "forecast = model_fit.forecast(steps=forecast_steps)"
   ]
  },
  {
   "cell_type": "code",
   "execution_count": null,
   "id": "dbedf2e7",
   "metadata": {},
   "outputs": [],
   "source": [
    "forecast"
   ]
  },
  {
   "cell_type": "code",
   "execution_count": null,
   "id": "d306184f",
   "metadata": {},
   "outputs": [],
   "source": [
    "forecast_s= pd.Series(list(forecast))"
   ]
  },
  {
   "cell_type": "code",
   "execution_count": null,
   "id": "11e5f25a",
   "metadata": {},
   "outputs": [],
   "source": [
    "df6 = pd.DataFrame({'unleaded_sales_forecast': forecast_s}) "
   ]
  },
  {
   "cell_type": "code",
   "execution_count": null,
   "id": "e25ecbba",
   "metadata": {},
   "outputs": [],
   "source": [
    "df6"
   ]
  }
 ],
 "metadata": {
  "kernelspec": {
   "display_name": "Python 3 (ipykernel)",
   "language": "python",
   "name": "python3"
  },
  "language_info": {
   "codemirror_mode": {
    "name": "ipython",
    "version": 3
   },
   "file_extension": ".py",
   "mimetype": "text/x-python",
   "name": "python",
   "nbconvert_exporter": "python",
   "pygments_lexer": "ipython3",
   "version": "3.9.13"
  },
  "varInspector": {
   "cols": {
    "lenName": 16,
    "lenType": 16,
    "lenVar": 40
   },
   "kernels_config": {
    "python": {
     "delete_cmd_postfix": "",
     "delete_cmd_prefix": "del ",
     "library": "var_list.py",
     "varRefreshCmd": "print(var_dic_list())"
    },
    "r": {
     "delete_cmd_postfix": ") ",
     "delete_cmd_prefix": "rm(",
     "library": "var_list.r",
     "varRefreshCmd": "cat(var_dic_list()) "
    }
   },
   "types_to_exclude": [
    "module",
    "function",
    "builtin_function_or_method",
    "instance",
    "_Feature"
   ],
   "window_display": false
  }
 },
 "nbformat": 4,
 "nbformat_minor": 5
}
