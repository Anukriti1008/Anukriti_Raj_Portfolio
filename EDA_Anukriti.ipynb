{
 "cells": [
  {
   "cell_type": "code",
   "execution_count": 1,
   "id": "bed29b72",
   "metadata": {},
   "outputs": [],
   "source": [
    "import numpy as np\n",
    "import pandas as pd\n",
    "import seaborn as sns\n",
    "import matplotlib.pyplot as plt\n",
    "from scipy import stats"
   ]
  },
  {
   "cell_type": "markdown",
   "id": "6acea649",
   "metadata": {},
   "source": [
    "## 1. The Train Dataset\n",
    "\n",
    "#### Importing the app_train dataset to a data frame\n",
    "#### Displaying a sample of the dataframe"
   ]
  },
  {
   "cell_type": "code",
   "execution_count": 2,
   "id": "5cdf9a2e",
   "metadata": {
    "scrolled": false
   },
   "outputs": [
    {
     "data": {
      "text/html": [
       "<div>\n",
       "<style scoped>\n",
       "    .dataframe tbody tr th:only-of-type {\n",
       "        vertical-align: middle;\n",
       "    }\n",
       "\n",
       "    .dataframe tbody tr th {\n",
       "        vertical-align: top;\n",
       "    }\n",
       "\n",
       "    .dataframe thead th {\n",
       "        text-align: right;\n",
       "    }\n",
       "</style>\n",
       "<table border=\"1\" class=\"dataframe\">\n",
       "  <thead>\n",
       "    <tr style=\"text-align: right;\">\n",
       "      <th></th>\n",
       "      <th>SK_ID_CURR</th>\n",
       "      <th>TARGET</th>\n",
       "      <th>NAME_CONTRACT_TYPE</th>\n",
       "      <th>CODE_GENDER</th>\n",
       "      <th>FLAG_OWN_CAR</th>\n",
       "      <th>FLAG_OWN_REALTY</th>\n",
       "      <th>CNT_CHILDREN</th>\n",
       "      <th>AMT_INCOME_TOTAL</th>\n",
       "      <th>AMT_CREDIT</th>\n",
       "      <th>AMT_ANNUITY</th>\n",
       "      <th>...</th>\n",
       "      <th>FLAG_DOCUMENT_18</th>\n",
       "      <th>FLAG_DOCUMENT_19</th>\n",
       "      <th>FLAG_DOCUMENT_20</th>\n",
       "      <th>FLAG_DOCUMENT_21</th>\n",
       "      <th>AMT_REQ_CREDIT_BUREAU_HOUR</th>\n",
       "      <th>AMT_REQ_CREDIT_BUREAU_DAY</th>\n",
       "      <th>AMT_REQ_CREDIT_BUREAU_WEEK</th>\n",
       "      <th>AMT_REQ_CREDIT_BUREAU_MON</th>\n",
       "      <th>AMT_REQ_CREDIT_BUREAU_QRT</th>\n",
       "      <th>AMT_REQ_CREDIT_BUREAU_YEAR</th>\n",
       "    </tr>\n",
       "  </thead>\n",
       "  <tbody>\n",
       "    <tr>\n",
       "      <th>0</th>\n",
       "      <td>100002</td>\n",
       "      <td>1</td>\n",
       "      <td>Cash loans</td>\n",
       "      <td>M</td>\n",
       "      <td>N</td>\n",
       "      <td>Y</td>\n",
       "      <td>0</td>\n",
       "      <td>202500.0</td>\n",
       "      <td>406597.5</td>\n",
       "      <td>24700.5</td>\n",
       "      <td>...</td>\n",
       "      <td>0</td>\n",
       "      <td>0</td>\n",
       "      <td>0</td>\n",
       "      <td>0</td>\n",
       "      <td>0.0</td>\n",
       "      <td>0.0</td>\n",
       "      <td>0.0</td>\n",
       "      <td>0.0</td>\n",
       "      <td>0.0</td>\n",
       "      <td>1.0</td>\n",
       "    </tr>\n",
       "    <tr>\n",
       "      <th>1</th>\n",
       "      <td>100003</td>\n",
       "      <td>0</td>\n",
       "      <td>Cash loans</td>\n",
       "      <td>F</td>\n",
       "      <td>N</td>\n",
       "      <td>N</td>\n",
       "      <td>0</td>\n",
       "      <td>270000.0</td>\n",
       "      <td>1293502.5</td>\n",
       "      <td>35698.5</td>\n",
       "      <td>...</td>\n",
       "      <td>0</td>\n",
       "      <td>0</td>\n",
       "      <td>0</td>\n",
       "      <td>0</td>\n",
       "      <td>0.0</td>\n",
       "      <td>0.0</td>\n",
       "      <td>0.0</td>\n",
       "      <td>0.0</td>\n",
       "      <td>0.0</td>\n",
       "      <td>0.0</td>\n",
       "    </tr>\n",
       "    <tr>\n",
       "      <th>2</th>\n",
       "      <td>100004</td>\n",
       "      <td>0</td>\n",
       "      <td>Revolving loans</td>\n",
       "      <td>M</td>\n",
       "      <td>Y</td>\n",
       "      <td>Y</td>\n",
       "      <td>0</td>\n",
       "      <td>67500.0</td>\n",
       "      <td>135000.0</td>\n",
       "      <td>6750.0</td>\n",
       "      <td>...</td>\n",
       "      <td>0</td>\n",
       "      <td>0</td>\n",
       "      <td>0</td>\n",
       "      <td>0</td>\n",
       "      <td>0.0</td>\n",
       "      <td>0.0</td>\n",
       "      <td>0.0</td>\n",
       "      <td>0.0</td>\n",
       "      <td>0.0</td>\n",
       "      <td>0.0</td>\n",
       "    </tr>\n",
       "    <tr>\n",
       "      <th>3</th>\n",
       "      <td>100006</td>\n",
       "      <td>0</td>\n",
       "      <td>Cash loans</td>\n",
       "      <td>F</td>\n",
       "      <td>N</td>\n",
       "      <td>Y</td>\n",
       "      <td>0</td>\n",
       "      <td>135000.0</td>\n",
       "      <td>312682.5</td>\n",
       "      <td>29686.5</td>\n",
       "      <td>...</td>\n",
       "      <td>0</td>\n",
       "      <td>0</td>\n",
       "      <td>0</td>\n",
       "      <td>0</td>\n",
       "      <td>NaN</td>\n",
       "      <td>NaN</td>\n",
       "      <td>NaN</td>\n",
       "      <td>NaN</td>\n",
       "      <td>NaN</td>\n",
       "      <td>NaN</td>\n",
       "    </tr>\n",
       "    <tr>\n",
       "      <th>4</th>\n",
       "      <td>100007</td>\n",
       "      <td>0</td>\n",
       "      <td>Cash loans</td>\n",
       "      <td>M</td>\n",
       "      <td>N</td>\n",
       "      <td>Y</td>\n",
       "      <td>0</td>\n",
       "      <td>121500.0</td>\n",
       "      <td>513000.0</td>\n",
       "      <td>21865.5</td>\n",
       "      <td>...</td>\n",
       "      <td>0</td>\n",
       "      <td>0</td>\n",
       "      <td>0</td>\n",
       "      <td>0</td>\n",
       "      <td>0.0</td>\n",
       "      <td>0.0</td>\n",
       "      <td>0.0</td>\n",
       "      <td>0.0</td>\n",
       "      <td>0.0</td>\n",
       "      <td>0.0</td>\n",
       "    </tr>\n",
       "  </tbody>\n",
       "</table>\n",
       "<p>5 rows × 122 columns</p>\n",
       "</div>"
      ],
      "text/plain": [
       "   SK_ID_CURR  TARGET NAME_CONTRACT_TYPE CODE_GENDER FLAG_OWN_CAR  \\\n",
       "0      100002       1         Cash loans           M            N   \n",
       "1      100003       0         Cash loans           F            N   \n",
       "2      100004       0    Revolving loans           M            Y   \n",
       "3      100006       0         Cash loans           F            N   \n",
       "4      100007       0         Cash loans           M            N   \n",
       "\n",
       "  FLAG_OWN_REALTY  CNT_CHILDREN  AMT_INCOME_TOTAL  AMT_CREDIT  AMT_ANNUITY  \\\n",
       "0               Y             0          202500.0    406597.5      24700.5   \n",
       "1               N             0          270000.0   1293502.5      35698.5   \n",
       "2               Y             0           67500.0    135000.0       6750.0   \n",
       "3               Y             0          135000.0    312682.5      29686.5   \n",
       "4               Y             0          121500.0    513000.0      21865.5   \n",
       "\n",
       "   ...  FLAG_DOCUMENT_18 FLAG_DOCUMENT_19 FLAG_DOCUMENT_20 FLAG_DOCUMENT_21  \\\n",
       "0  ...                 0                0                0                0   \n",
       "1  ...                 0                0                0                0   \n",
       "2  ...                 0                0                0                0   \n",
       "3  ...                 0                0                0                0   \n",
       "4  ...                 0                0                0                0   \n",
       "\n",
       "  AMT_REQ_CREDIT_BUREAU_HOUR AMT_REQ_CREDIT_BUREAU_DAY  \\\n",
       "0                        0.0                       0.0   \n",
       "1                        0.0                       0.0   \n",
       "2                        0.0                       0.0   \n",
       "3                        NaN                       NaN   \n",
       "4                        0.0                       0.0   \n",
       "\n",
       "   AMT_REQ_CREDIT_BUREAU_WEEK  AMT_REQ_CREDIT_BUREAU_MON  \\\n",
       "0                         0.0                        0.0   \n",
       "1                         0.0                        0.0   \n",
       "2                         0.0                        0.0   \n",
       "3                         NaN                        NaN   \n",
       "4                         0.0                        0.0   \n",
       "\n",
       "   AMT_REQ_CREDIT_BUREAU_QRT  AMT_REQ_CREDIT_BUREAU_YEAR  \n",
       "0                        0.0                         1.0  \n",
       "1                        0.0                         0.0  \n",
       "2                        0.0                         0.0  \n",
       "3                        NaN                         NaN  \n",
       "4                        0.0                         0.0  \n",
       "\n",
       "[5 rows x 122 columns]"
      ]
     },
     "execution_count": 2,
     "metadata": {},
     "output_type": "execute_result"
    }
   ],
   "source": [
    "appTrain= pd.read_csv(\"application_train.csv\")\n",
    "\n",
    "appTrain.head(5)"
   ]
  },
  {
   "cell_type": "markdown",
   "id": "c3153bba",
   "metadata": {},
   "source": [
    "#### Checking shape"
   ]
  },
  {
   "cell_type": "code",
   "execution_count": 3,
   "id": "d6059f06",
   "metadata": {
    "scrolled": false
   },
   "outputs": [
    {
     "name": "stdout",
     "output_type": "stream",
     "text": [
      "(307511, 122)\n"
     ]
    }
   ],
   "source": [
    "print(appTrain.shape)"
   ]
  },
  {
   "cell_type": "markdown",
   "id": "c859432f",
   "metadata": {},
   "source": [
    "#### Checking Datatype of Train data"
   ]
  },
  {
   "cell_type": "code",
   "execution_count": 4,
   "id": "d9b0e637",
   "metadata": {},
   "outputs": [
    {
     "data": {
      "text/plain": [
       "SK_ID_CURR                      int64\n",
       "TARGET                          int64\n",
       "NAME_CONTRACT_TYPE             object\n",
       "CODE_GENDER                    object\n",
       "FLAG_OWN_CAR                   object\n",
       "                               ...   \n",
       "AMT_REQ_CREDIT_BUREAU_DAY     float64\n",
       "AMT_REQ_CREDIT_BUREAU_WEEK    float64\n",
       "AMT_REQ_CREDIT_BUREAU_MON     float64\n",
       "AMT_REQ_CREDIT_BUREAU_QRT     float64\n",
       "AMT_REQ_CREDIT_BUREAU_YEAR    float64\n",
       "Length: 122, dtype: object"
      ]
     },
     "execution_count": 4,
     "metadata": {},
     "output_type": "execute_result"
    }
   ],
   "source": [
    "appTrain.dtypes"
   ]
  },
  {
   "cell_type": "markdown",
   "id": "d6a85d1d",
   "metadata": {},
   "source": [
    "#### Checking count of target variable"
   ]
  },
  {
   "cell_type": "code",
   "execution_count": 5,
   "id": "af51adec",
   "metadata": {},
   "outputs": [
    {
     "data": {
      "text/plain": [
       "0    282686\n",
       "1     24825\n",
       "Name: TARGET, dtype: int64"
      ]
     },
     "execution_count": 5,
     "metadata": {},
     "output_type": "execute_result"
    }
   ],
   "source": [
    "appTrain['TARGET'].value_counts()"
   ]
  },
  {
   "cell_type": "markdown",
   "id": "b6bb4cff",
   "metadata": {},
   "source": [
    "## Conclusion based on the above evaluation:\n",
    "\n",
    "#### Above evaluation shows that the application_train dataset has 307511 rows and 122 columns in total. This means that there are 307511 instances of separate loans distributed based on which our analytics is expected. Also as seen in the sample above there are 122 columns in total including the second column 'Target'(dependent variable)\n",
    "\n",
    "#### Also we can see that the datset is combination of numerical and categorical variables and the dataset has some missing values being shown as NaN"
   ]
  },
  {
   "cell_type": "markdown",
   "id": "0a258a07",
   "metadata": {},
   "source": [
    "## 2.The Test Dataset\n",
    "\n",
    "#### Importing the app_test dataset to a data frame\n",
    "#### displaying a sample of the dataframe"
   ]
  },
  {
   "cell_type": "code",
   "execution_count": 6,
   "id": "7e70a79a",
   "metadata": {
    "scrolled": true
   },
   "outputs": [
    {
     "data": {
      "text/html": [
       "<div>\n",
       "<style scoped>\n",
       "    .dataframe tbody tr th:only-of-type {\n",
       "        vertical-align: middle;\n",
       "    }\n",
       "\n",
       "    .dataframe tbody tr th {\n",
       "        vertical-align: top;\n",
       "    }\n",
       "\n",
       "    .dataframe thead th {\n",
       "        text-align: right;\n",
       "    }\n",
       "</style>\n",
       "<table border=\"1\" class=\"dataframe\">\n",
       "  <thead>\n",
       "    <tr style=\"text-align: right;\">\n",
       "      <th></th>\n",
       "      <th>SK_ID_CURR</th>\n",
       "      <th>NAME_CONTRACT_TYPE</th>\n",
       "      <th>CODE_GENDER</th>\n",
       "      <th>FLAG_OWN_CAR</th>\n",
       "      <th>FLAG_OWN_REALTY</th>\n",
       "      <th>CNT_CHILDREN</th>\n",
       "      <th>AMT_INCOME_TOTAL</th>\n",
       "      <th>AMT_CREDIT</th>\n",
       "      <th>AMT_ANNUITY</th>\n",
       "      <th>AMT_GOODS_PRICE</th>\n",
       "      <th>...</th>\n",
       "      <th>FLAG_DOCUMENT_18</th>\n",
       "      <th>FLAG_DOCUMENT_19</th>\n",
       "      <th>FLAG_DOCUMENT_20</th>\n",
       "      <th>FLAG_DOCUMENT_21</th>\n",
       "      <th>AMT_REQ_CREDIT_BUREAU_HOUR</th>\n",
       "      <th>AMT_REQ_CREDIT_BUREAU_DAY</th>\n",
       "      <th>AMT_REQ_CREDIT_BUREAU_WEEK</th>\n",
       "      <th>AMT_REQ_CREDIT_BUREAU_MON</th>\n",
       "      <th>AMT_REQ_CREDIT_BUREAU_QRT</th>\n",
       "      <th>AMT_REQ_CREDIT_BUREAU_YEAR</th>\n",
       "    </tr>\n",
       "  </thead>\n",
       "  <tbody>\n",
       "    <tr>\n",
       "      <th>0</th>\n",
       "      <td>100001</td>\n",
       "      <td>Cash loans</td>\n",
       "      <td>F</td>\n",
       "      <td>N</td>\n",
       "      <td>Y</td>\n",
       "      <td>0</td>\n",
       "      <td>135000.0</td>\n",
       "      <td>568800.0</td>\n",
       "      <td>20560.5</td>\n",
       "      <td>450000.0</td>\n",
       "      <td>...</td>\n",
       "      <td>0</td>\n",
       "      <td>0</td>\n",
       "      <td>0</td>\n",
       "      <td>0</td>\n",
       "      <td>0.0</td>\n",
       "      <td>0.0</td>\n",
       "      <td>0.0</td>\n",
       "      <td>0.0</td>\n",
       "      <td>0.0</td>\n",
       "      <td>0.0</td>\n",
       "    </tr>\n",
       "    <tr>\n",
       "      <th>1</th>\n",
       "      <td>100005</td>\n",
       "      <td>Cash loans</td>\n",
       "      <td>M</td>\n",
       "      <td>N</td>\n",
       "      <td>Y</td>\n",
       "      <td>0</td>\n",
       "      <td>99000.0</td>\n",
       "      <td>222768.0</td>\n",
       "      <td>17370.0</td>\n",
       "      <td>180000.0</td>\n",
       "      <td>...</td>\n",
       "      <td>0</td>\n",
       "      <td>0</td>\n",
       "      <td>0</td>\n",
       "      <td>0</td>\n",
       "      <td>0.0</td>\n",
       "      <td>0.0</td>\n",
       "      <td>0.0</td>\n",
       "      <td>0.0</td>\n",
       "      <td>0.0</td>\n",
       "      <td>3.0</td>\n",
       "    </tr>\n",
       "    <tr>\n",
       "      <th>2</th>\n",
       "      <td>100013</td>\n",
       "      <td>Cash loans</td>\n",
       "      <td>M</td>\n",
       "      <td>Y</td>\n",
       "      <td>Y</td>\n",
       "      <td>0</td>\n",
       "      <td>202500.0</td>\n",
       "      <td>663264.0</td>\n",
       "      <td>69777.0</td>\n",
       "      <td>630000.0</td>\n",
       "      <td>...</td>\n",
       "      <td>0</td>\n",
       "      <td>0</td>\n",
       "      <td>0</td>\n",
       "      <td>0</td>\n",
       "      <td>0.0</td>\n",
       "      <td>0.0</td>\n",
       "      <td>0.0</td>\n",
       "      <td>0.0</td>\n",
       "      <td>1.0</td>\n",
       "      <td>4.0</td>\n",
       "    </tr>\n",
       "    <tr>\n",
       "      <th>3</th>\n",
       "      <td>100028</td>\n",
       "      <td>Cash loans</td>\n",
       "      <td>F</td>\n",
       "      <td>N</td>\n",
       "      <td>Y</td>\n",
       "      <td>2</td>\n",
       "      <td>315000.0</td>\n",
       "      <td>1575000.0</td>\n",
       "      <td>49018.5</td>\n",
       "      <td>1575000.0</td>\n",
       "      <td>...</td>\n",
       "      <td>0</td>\n",
       "      <td>0</td>\n",
       "      <td>0</td>\n",
       "      <td>0</td>\n",
       "      <td>0.0</td>\n",
       "      <td>0.0</td>\n",
       "      <td>0.0</td>\n",
       "      <td>0.0</td>\n",
       "      <td>0.0</td>\n",
       "      <td>3.0</td>\n",
       "    </tr>\n",
       "    <tr>\n",
       "      <th>4</th>\n",
       "      <td>100038</td>\n",
       "      <td>Cash loans</td>\n",
       "      <td>M</td>\n",
       "      <td>Y</td>\n",
       "      <td>N</td>\n",
       "      <td>1</td>\n",
       "      <td>180000.0</td>\n",
       "      <td>625500.0</td>\n",
       "      <td>32067.0</td>\n",
       "      <td>625500.0</td>\n",
       "      <td>...</td>\n",
       "      <td>0</td>\n",
       "      <td>0</td>\n",
       "      <td>0</td>\n",
       "      <td>0</td>\n",
       "      <td>NaN</td>\n",
       "      <td>NaN</td>\n",
       "      <td>NaN</td>\n",
       "      <td>NaN</td>\n",
       "      <td>NaN</td>\n",
       "      <td>NaN</td>\n",
       "    </tr>\n",
       "  </tbody>\n",
       "</table>\n",
       "<p>5 rows × 121 columns</p>\n",
       "</div>"
      ],
      "text/plain": [
       "   SK_ID_CURR NAME_CONTRACT_TYPE CODE_GENDER FLAG_OWN_CAR FLAG_OWN_REALTY  \\\n",
       "0      100001         Cash loans           F            N               Y   \n",
       "1      100005         Cash loans           M            N               Y   \n",
       "2      100013         Cash loans           M            Y               Y   \n",
       "3      100028         Cash loans           F            N               Y   \n",
       "4      100038         Cash loans           M            Y               N   \n",
       "\n",
       "   CNT_CHILDREN  AMT_INCOME_TOTAL  AMT_CREDIT  AMT_ANNUITY  AMT_GOODS_PRICE  \\\n",
       "0             0          135000.0    568800.0      20560.5         450000.0   \n",
       "1             0           99000.0    222768.0      17370.0         180000.0   \n",
       "2             0          202500.0    663264.0      69777.0         630000.0   \n",
       "3             2          315000.0   1575000.0      49018.5        1575000.0   \n",
       "4             1          180000.0    625500.0      32067.0         625500.0   \n",
       "\n",
       "   ... FLAG_DOCUMENT_18 FLAG_DOCUMENT_19 FLAG_DOCUMENT_20 FLAG_DOCUMENT_21  \\\n",
       "0  ...                0                0                0                0   \n",
       "1  ...                0                0                0                0   \n",
       "2  ...                0                0                0                0   \n",
       "3  ...                0                0                0                0   \n",
       "4  ...                0                0                0                0   \n",
       "\n",
       "  AMT_REQ_CREDIT_BUREAU_HOUR  AMT_REQ_CREDIT_BUREAU_DAY  \\\n",
       "0                        0.0                        0.0   \n",
       "1                        0.0                        0.0   \n",
       "2                        0.0                        0.0   \n",
       "3                        0.0                        0.0   \n",
       "4                        NaN                        NaN   \n",
       "\n",
       "   AMT_REQ_CREDIT_BUREAU_WEEK  AMT_REQ_CREDIT_BUREAU_MON  \\\n",
       "0                         0.0                        0.0   \n",
       "1                         0.0                        0.0   \n",
       "2                         0.0                        0.0   \n",
       "3                         0.0                        0.0   \n",
       "4                         NaN                        NaN   \n",
       "\n",
       "   AMT_REQ_CREDIT_BUREAU_QRT  AMT_REQ_CREDIT_BUREAU_YEAR  \n",
       "0                        0.0                         0.0  \n",
       "1                        0.0                         3.0  \n",
       "2                        1.0                         4.0  \n",
       "3                        0.0                         3.0  \n",
       "4                        NaN                         NaN  \n",
       "\n",
       "[5 rows x 121 columns]"
      ]
     },
     "execution_count": 6,
     "metadata": {},
     "output_type": "execute_result"
    }
   ],
   "source": [
    "appTest= pd.read_csv(\"application_test.csv\")\n",
    "\n",
    "appTest.head(5)"
   ]
  },
  {
   "cell_type": "markdown",
   "id": "2d82eb3c",
   "metadata": {},
   "source": [
    "#### Checking shape"
   ]
  },
  {
   "cell_type": "code",
   "execution_count": 7,
   "id": "74776b3f",
   "metadata": {
    "scrolled": true
   },
   "outputs": [
    {
     "data": {
      "text/plain": [
       "(48744, 121)"
      ]
     },
     "execution_count": 7,
     "metadata": {},
     "output_type": "execute_result"
    }
   ],
   "source": [
    "appTest.shape"
   ]
  },
  {
   "cell_type": "markdown",
   "id": "161771c5",
   "metadata": {},
   "source": [
    "# Conclusion based on the above evaluation:\n",
    "\n",
    "#### Above evaluation shows that the application_test dataset has 48744 rows and 121 columns in total. This means that there are 48744 instances of separate loans distributed. Also as seen in the sample above there are 121 columns in total (which basically is the same as 122 columns of appTrain- 1 column(the traget Column))\n",
    "\n",
    "#### Also we can see that the datset is combination of numerical and categorical variables and the dataset has some missing values being shown as NaN"
   ]
  },
  {
   "cell_type": "markdown",
   "id": "6f7d2f05",
   "metadata": {},
   "source": [
    "## 3. The next key analysis is to check out and analyse the Target Variable\n",
    "#### This will let us decide the type of target variable, classes if any, number of classes and the overall distribution of the dependent variable"
   ]
  },
  {
   "cell_type": "code",
   "execution_count": 8,
   "id": "bd63ae07",
   "metadata": {},
   "outputs": [
    {
     "data": {
      "text/plain": [
       "SK_ID_CURR                      int64\n",
       "TARGET                          int64\n",
       "NAME_CONTRACT_TYPE             object\n",
       "CODE_GENDER                    object\n",
       "FLAG_OWN_CAR                   object\n",
       "                               ...   \n",
       "AMT_REQ_CREDIT_BUREAU_DAY     float64\n",
       "AMT_REQ_CREDIT_BUREAU_WEEK    float64\n",
       "AMT_REQ_CREDIT_BUREAU_MON     float64\n",
       "AMT_REQ_CREDIT_BUREAU_QRT     float64\n",
       "AMT_REQ_CREDIT_BUREAU_YEAR    float64\n",
       "Length: 122, dtype: object"
      ]
     },
     "execution_count": 8,
     "metadata": {},
     "output_type": "execute_result"
    }
   ],
   "source": [
    "appTrain.dtypes"
   ]
  },
  {
   "cell_type": "markdown",
   "id": "b55e8365",
   "metadata": {},
   "source": [
    "#### The above analysis shows that the target is a numerical variable."
   ]
  },
  {
   "cell_type": "markdown",
   "id": "15ad9dd4",
   "metadata": {},
   "source": [
    "## 4. Obtaining y and X parameter for test train model where  y contains values for column TARGET and X contains all columns except TARGET"
   ]
  },
  {
   "cell_type": "code",
   "execution_count": 9,
   "id": "1ff45ca3",
   "metadata": {},
   "outputs": [],
   "source": [
    "y= appTrain['TARGET']"
   ]
  },
  {
   "cell_type": "code",
   "execution_count": 10,
   "id": "e93e5b9d",
   "metadata": {},
   "outputs": [],
   "source": [
    "X= appTrain.drop('TARGET', axis=1)"
   ]
  },
  {
   "cell_type": "markdown",
   "id": "b23638d0",
   "metadata": {},
   "source": [
    "### Performing split on Train data to obtain Test Data."
   ]
  },
  {
   "cell_type": "code",
   "execution_count": 11,
   "id": "c8e80d18",
   "metadata": {
    "scrolled": true
   },
   "outputs": [],
   "source": [
    "from sklearn.model_selection import train_test_split\n",
    "#X_train, X_test, y_train, y_test = train_test_split(X, y, test_size = (15000/appTrain.shape[0]), stratify = y, random_state = 50)\n",
    "X_train, X_test, y_train, y_test = train_test_split(X, y, test_size = (60000/appTrain.shape[0]), stratify = y, random_state = 50)"
   ]
  },
  {
   "cell_type": "code",
   "execution_count": 12,
   "id": "20abfc45",
   "metadata": {},
   "outputs": [
    {
     "data": {
      "text/plain": [
       "(247511, 122)"
      ]
     },
     "execution_count": 12,
     "metadata": {},
     "output_type": "execute_result"
    }
   ],
   "source": [
    "#Now we will proceed using X_train and y_train as our dataset\n",
    "# we will keep X_test and y_test for tesing our models accuracy towards the end ## Unseen data\n",
    "\n",
    "appTrain= pd.concat ([X_train, y_train], axis=1)\n",
    "appTrain.shape"
   ]
  },
  {
   "cell_type": "markdown",
   "id": "7a64bcd9",
   "metadata": {},
   "source": [
    "### This means that the test dataframe has 307511- 247511 rows and 122 columns including the TARGET column"
   ]
  },
  {
   "cell_type": "code",
   "execution_count": 13,
   "id": "26c85196",
   "metadata": {},
   "outputs": [
    {
     "name": "stdout",
     "output_type": "stream",
     "text": [
      "percentage of rows having target as 0 (i.e. customer repaid):  91.92722747675862\n",
      "percentage of rows having target as 1 (i.e. customer didnt repay):    8.07277252324139\n"
     ]
    }
   ],
   "source": [
    "#Majority class classifier count\n",
    "target_counts=appTrain['TARGET'].value_counts()\n",
    "target_percent=target_counts/target_counts.sum()*100\n",
    "\n",
    "#pd.concat(target_counts,target_percent)\n",
    "print(\"percentage of rows having target as 0 (i.e. customer repaid): \",target_percent[0])\n",
    "\n",
    "#print(\"*******\\n\")\n",
    "print(\"percentage of rows having target as 1 (i.e. customer didnt repay):   \",target_percent[1])\n",
    "#print(target_counts)"
   ]
  },
  {
   "cell_type": "markdown",
   "id": "a1b411e2",
   "metadata": {},
   "source": [
    "#### The above analysis clearly showcases that this is a (hugely) imbalanced classification problem as almost 92% of the loans were paid back compared to the 8% of non-repayment instances."
   ]
  },
  {
   "cell_type": "code",
   "execution_count": 14,
   "id": "09ed0f7e",
   "metadata": {},
   "outputs": [
    {
     "data": {
      "text/plain": [
       "(227530, 122)"
      ]
     },
     "execution_count": 14,
     "metadata": {},
     "output_type": "execute_result"
    }
   ],
   "source": [
    "appTrain[appTrain[\"TARGET\"]==0].shape"
   ]
  },
  {
   "cell_type": "code",
   "execution_count": 15,
   "id": "93f43543",
   "metadata": {},
   "outputs": [
    {
     "data": {
      "text/plain": [
       "(19981, 122)"
      ]
     },
     "execution_count": 15,
     "metadata": {},
     "output_type": "execute_result"
    }
   ],
   "source": [
    "appTrain[appTrain[\"TARGET\"]==1].shape"
   ]
  },
  {
   "cell_type": "code",
   "execution_count": 16,
   "id": "63b0ac51",
   "metadata": {},
   "outputs": [
    {
     "data": {
      "text/plain": [
       "(49952, 122)"
      ]
     },
     "execution_count": 16,
     "metadata": {},
     "output_type": "execute_result"
    }
   ],
   "source": [
    "#Balancing the given dataframe by pulling out equal number of rows \n",
    "#that have target as 1 and target as 0\n",
    "\n",
    "balanceddf = pd.concat((appTrain[appTrain[\"TARGET\"]==1], \\\n",
    "                        appTrain[appTrain[\"TARGET\"]==0]. \n",
    "                        sample(n=int(appTrain[appTrain[\"TARGET\"]==1].shape[0]*(60/40)))))\n",
    "balanceddf.shape"
   ]
  },
  {
   "cell_type": "code",
   "execution_count": 17,
   "id": "159e0049",
   "metadata": {},
   "outputs": [],
   "source": [
    "appTrain= balanceddf"
   ]
  },
  {
   "cell_type": "code",
   "execution_count": 18,
   "id": "7a320e3b",
   "metadata": {},
   "outputs": [
    {
     "name": "stdout",
     "output_type": "stream",
     "text": [
      "percentage of rows having target as 0 (i.e. customer repaid):  59.999599615631006\n",
      "percentage of rows having target as 1 (i.e. customer didnt repay):    40.000400384368994\n"
     ]
    }
   ],
   "source": [
    "#Majority class classifier count\n",
    "target_counts=appTrain['TARGET'].value_counts()\n",
    "target_percent=target_counts/target_counts.sum()*100\n",
    "\n",
    "#pd.concat(target_counts,target_percent)\n",
    "print(\"percentage of rows having target as 0 (i.e. customer repaid): \",target_percent[0])\n",
    "\n",
    "#print(\"*******\\n\")\n",
    "print(\"percentage of rows having target as 1 (i.e. customer didnt repay):   \",target_percent[1])\n",
    "#print(target_counts)"
   ]
  },
  {
   "cell_type": "code",
   "execution_count": 19,
   "id": "3b840ac1",
   "metadata": {},
   "outputs": [
    {
     "data": {
      "text/plain": [
       "array([0, 1], dtype=int64)"
      ]
     },
     "execution_count": 19,
     "metadata": {},
     "output_type": "execute_result"
    }
   ],
   "source": [
    "#Lets check the unique values in the Target column\n",
    "np.unique(appTrain[['TARGET']])"
   ]
  },
  {
   "cell_type": "markdown",
   "id": "49e9ea56",
   "metadata": {},
   "source": [
    "#### Above analysis shows that there are 2 unique classes of data in the Target column. This means that our analysis will be pivoted around 2 class classification."
   ]
  },
  {
   "cell_type": "code",
   "execution_count": 20,
   "id": "711ed880",
   "metadata": {
    "scrolled": true
   },
   "outputs": [
    {
     "data": {
      "text/plain": [
       "0    29971\n",
       "1    19981\n",
       "Name: TARGET, dtype: int64"
      ]
     },
     "execution_count": 20,
     "metadata": {},
     "output_type": "execute_result"
    }
   ],
   "source": [
    "appTrain['TARGET'].value_counts()"
   ]
  },
  {
   "cell_type": "markdown",
   "id": "fc7470f2",
   "metadata": {},
   "source": [
    "#### Above analysis shows that now the data looks ok to work (across the 2 classes in the context)"
   ]
  },
  {
   "cell_type": "markdown",
   "id": "b05007d3",
   "metadata": {},
   "source": [
    "## 5.Let's analyse the column types from our dataset"
   ]
  },
  {
   "cell_type": "code",
   "execution_count": 21,
   "id": "b739cf64",
   "metadata": {
    "scrolled": true
   },
   "outputs": [
    {
     "data": {
      "text/plain": [
       "SK_ID_CURR                      int64\n",
       "NAME_CONTRACT_TYPE             object\n",
       "CODE_GENDER                    object\n",
       "FLAG_OWN_CAR                   object\n",
       "FLAG_OWN_REALTY                object\n",
       "                               ...   \n",
       "AMT_REQ_CREDIT_BUREAU_WEEK    float64\n",
       "AMT_REQ_CREDIT_BUREAU_MON     float64\n",
       "AMT_REQ_CREDIT_BUREAU_QRT     float64\n",
       "AMT_REQ_CREDIT_BUREAU_YEAR    float64\n",
       "TARGET                          int64\n",
       "Length: 122, dtype: object"
      ]
     },
     "execution_count": 21,
     "metadata": {},
     "output_type": "execute_result"
    }
   ],
   "source": [
    "appTrain.dtypes"
   ]
  },
  {
   "cell_type": "markdown",
   "id": "2f3b2bd0",
   "metadata": {},
   "source": [
    "The above output does not help us much in the current format. lets take a count of the columns based on their datatype"
   ]
  },
  {
   "cell_type": "code",
   "execution_count": 22,
   "id": "41baf8fb",
   "metadata": {
    "scrolled": true
   },
   "outputs": [
    {
     "data": {
      "text/plain": [
       "float64    65\n",
       "int64      41\n",
       "object     16\n",
       "dtype: int64"
      ]
     },
     "execution_count": 22,
     "metadata": {},
     "output_type": "execute_result"
    }
   ],
   "source": [
    "appTrain.dtypes.value_counts()"
   ]
  },
  {
   "cell_type": "markdown",
   "id": "f8ea0f33",
   "metadata": {},
   "source": [
    "#### So we have 65 columns of the type float64, 41 columns of the type int64 and 16 columns of the type object. This info did not help us much again.  However, we have an idea of Object type variables(categorical) seen as 16 here. \n",
    "#### Similarly lets check the test dataset"
   ]
  },
  {
   "cell_type": "code",
   "execution_count": 23,
   "id": "165ba53b",
   "metadata": {},
   "outputs": [
    {
     "data": {
      "text/plain": [
       "(48744, 121)"
      ]
     },
     "execution_count": 23,
     "metadata": {},
     "output_type": "execute_result"
    }
   ],
   "source": [
    "appTest.shape"
   ]
  },
  {
   "cell_type": "code",
   "execution_count": 24,
   "id": "458afede",
   "metadata": {
    "scrolled": true
   },
   "outputs": [
    {
     "data": {
      "text/plain": [
       "float64    62\n",
       "int64      43\n",
       "object     16\n",
       "dtype: int64"
      ]
     },
     "execution_count": 24,
     "metadata": {},
     "output_type": "execute_result"
    }
   ],
   "source": [
    "appTest.dtypes.value_counts()"
   ]
  },
  {
   "cell_type": "code",
   "execution_count": 25,
   "id": "eb81b210",
   "metadata": {
    "scrolled": true
   },
   "outputs": [
    {
     "data": {
      "text/plain": [
       "(60000, 121)"
      ]
     },
     "execution_count": 25,
     "metadata": {},
     "output_type": "execute_result"
    }
   ],
   "source": [
    "X_test.shape"
   ]
  },
  {
   "cell_type": "code",
   "execution_count": 26,
   "id": "0f7f54f2",
   "metadata": {},
   "outputs": [
    {
     "data": {
      "text/plain": [
       "float64    65\n",
       "int64      40\n",
       "object     16\n",
       "dtype: int64"
      ]
     },
     "execution_count": 26,
     "metadata": {},
     "output_type": "execute_result"
    }
   ],
   "source": [
    "X_test.dtypes.value_counts()"
   ]
  },
  {
   "cell_type": "markdown",
   "id": "56ddbecb",
   "metadata": {},
   "source": [
    "\n",
    "#### Lets take care of these categorical variables in a way that they become computable to help us predict our Target variable."
   ]
  },
  {
   "cell_type": "markdown",
   "id": "e22f4093",
   "metadata": {},
   "source": [
    "### 7.For this task, we will be using One Hot Encoding(OHE hereafter) using the get_dummies function of the pandas"
   ]
  },
  {
   "cell_type": "code",
   "execution_count": 27,
   "id": "dcca4cb6",
   "metadata": {},
   "outputs": [
    {
     "name": "stdout",
     "output_type": "stream",
     "text": [
      "After OHE the training Features shape:  (49952, 244)\n",
      "After OHE the testing Features shape:  (48744, 242)\n",
      "After OHE the testing Features shape extracted from apptrain.csv :  (60000, 244)\n"
     ]
    }
   ],
   "source": [
    "#implementing One Hot Encoding on train and test data for the 16 object type variables\n",
    "\n",
    "appTrainOHE= pd.get_dummies(appTrain)\n",
    "appTestOHE= pd.get_dummies(appTest)\n",
    "X_testOHE= pd.get_dummies(X_test)\n",
    "\n",
    "\n",
    "# Now Lets check whether the number of columns increased due to One Hot Encoding\n",
    "print('After OHE the training Features shape: ', appTrainOHE.shape)\n",
    "print('After OHE the testing Features shape: ', appTestOHE.shape)\n",
    "print('After OHE the testing Features shape extracted from apptrain.csv : ', X_testOHE.shape)"
   ]
  },
  {
   "cell_type": "markdown",
   "id": "65d7af14",
   "metadata": {},
   "source": [
    "#### The difference that we see here in the count of columns between the train and test data is because: Some of the categorical variables in the train data had categories that didnt show up in the test data. So there were greater number of columns created by OHE for train data."
   ]
  },
  {
   "cell_type": "markdown",
   "id": "ab4ad635",
   "metadata": {},
   "source": [
    "#### However, for the analysis that we are trying to achieve the number of columns in the train and test data must be in sync and therefore align. we will be achieving this using the the pandas align() method.\n",
    "\n"
   ]
  },
  {
   "cell_type": "code",
   "execution_count": 28,
   "id": "99d6d325",
   "metadata": {},
   "outputs": [
    {
     "name": "stdout",
     "output_type": "stream",
     "text": [
      "After aligning the training Features shape:  (49952, 241)\n",
      "After aligning the testing Features shape:  (48744, 241)\n",
      "After aligning the training Features (with X_test) shape:  (49952, 241)\n",
      "After aligning the testing Features shape:  (48744, 241)\n",
      "After aligning the testing Features shape of test data extracted from apptrain.csv:  (60000, 244)\n"
     ]
    }
   ],
   "source": [
    "# for implementing align() lets save the Target variable from the train data-set as the test data-set does not have it and because of which it will get dropped during alignment\n",
    "\n",
    "# lets extract that in a separate label variable\n",
    "\n",
    "trainingTarget= appTrainOHE['TARGET']\n",
    "\n",
    "\n",
    "#aliging dataframes to retain only those columns that are present in both of the dataframes\n",
    "\n",
    "appTrainOHE, appTestOHE= appTrainOHE.align(appTestOHE, join= 'inner', axis=1)\n",
    "print('After aligning the training Features shape: ', appTrainOHE.shape)\n",
    "print('After aligning the testing Features shape: ', appTestOHE.shape)\n",
    "\n",
    "#appTrainOHE, X_testOHE= appTrainOHE.align(X_testOHE, join= 'inner', axis=1)\n",
    "\n",
    "\n",
    "print('After aligning the training Features (with X_test) shape: ', appTrainOHE.shape)\n",
    "print('After aligning the testing Features shape: ', appTestOHE.shape)\n",
    "print('After aligning the testing Features shape of test data extracted from apptrain.csv: ', X_testOHE.shape)"
   ]
  },
  {
   "cell_type": "markdown",
   "id": "46b416c6",
   "metadata": {},
   "source": [
    "#### As shown above the training and test data set, both have equal number of features now. However during the alignment we lost our 'Target' variable. We will now add it back to the training data as shown below."
   ]
  },
  {
   "cell_type": "code",
   "execution_count": 29,
   "id": "d71c99ce",
   "metadata": {},
   "outputs": [],
   "source": [
    "appTrainOHE['TARGET']= trainingTarget"
   ]
  },
  {
   "cell_type": "code",
   "execution_count": 30,
   "id": "6f9604bc",
   "metadata": {
    "scrolled": true
   },
   "outputs": [
    {
     "data": {
      "text/plain": [
       "(49952, 242)"
      ]
     },
     "execution_count": 30,
     "metadata": {},
     "output_type": "execute_result"
    }
   ],
   "source": [
    "#rechecking shape of the train data\n",
    "appTrainOHE.shape"
   ]
  },
  {
   "cell_type": "markdown",
   "id": "59951550",
   "metadata": {},
   "source": [
    "### 8. We will now try to underrstand the relation between the independent varaibles and the target variable by using the Pearson Correlation Coefficient calculator using the corr() method. Please note that correlation does not indicate causality but are a significant measure to understand the relationships between the features and label."
   ]
  },
  {
   "cell_type": "code",
   "execution_count": 31,
   "id": "aabf804d",
   "metadata": {},
   "outputs": [],
   "source": [
    "correlations = appTrainOHE.corr()['TARGET'].sort_values(ascending= False)"
   ]
  },
  {
   "cell_type": "code",
   "execution_count": 32,
   "id": "ad011641",
   "metadata": {},
   "outputs": [
    {
     "data": {
      "text/plain": [
       "TARGET                                               1.000000\n",
       "DAYS_BIRTH                                           0.143076\n",
       "REGION_RATING_CLIENT_W_CITY                          0.110899\n",
       "REGION_RATING_CLIENT                                 0.107615\n",
       "NAME_INCOME_TYPE_Working                             0.103247\n",
       "DAYS_LAST_PHONE_CHANGE                               0.099170\n",
       "CODE_GENDER_M                                        0.096785\n",
       "REG_CITY_NOT_WORK_CITY                               0.094753\n",
       "DAYS_ID_PUBLISH                                      0.093571\n",
       "NAME_EDUCATION_TYPE_Secondary / secondary special    0.093468\n",
       "FLAG_EMP_PHONE                                       0.087250\n",
       "REG_CITY_NOT_LIVE_CITY                               0.080393\n",
       "DAYS_REGISTRATION                                    0.079575\n",
       "OCCUPATION_TYPE_Laborers                             0.079191\n",
       "FLAG_DOCUMENT_3                                      0.077202\n",
       "OWN_CAR_AGE                                          0.076938\n",
       "LIVE_CITY_NOT_WORK_CITY                              0.060302\n",
       "DEF_30_CNT_SOCIAL_CIRCLE                             0.057850\n",
       "NAME_CONTRACT_TYPE_Cash loans                        0.055804\n",
       "DEF_60_CNT_SOCIAL_CIRCLE                             0.053585\n",
       "Name: TARGET, dtype: float64"
      ]
     },
     "execution_count": 32,
     "metadata": {},
     "output_type": "execute_result"
    }
   ],
   "source": [
    "#checking the top 20 correlation values\n",
    "\n",
    "correlations.head(20)"
   ]
  },
  {
   "cell_type": "code",
   "execution_count": 33,
   "id": "1f95086a",
   "metadata": {},
   "outputs": [
    {
     "data": {
      "text/plain": [
       "TOTALAREA_MODE                         -0.070469\n",
       "ELEVATORS_MEDI                         -0.073590\n",
       "ELEVATORS_AVG                          -0.074381\n",
       "REGION_POPULATION_RELATIVE             -0.074848\n",
       "AMT_GOODS_PRICE                        -0.075562\n",
       "HOUSETYPE_MODE_block of flats          -0.075653\n",
       "EMERGENCYSTATE_MODE_No                 -0.079342\n",
       "DAYS_EMPLOYED                          -0.085294\n",
       "ORGANIZATION_TYPE_XNA                  -0.087241\n",
       "NAME_INCOME_TYPE_Pensioner             -0.087792\n",
       "FLOORSMAX_MODE                         -0.090103\n",
       "FLOORSMAX_MEDI                         -0.091331\n",
       "FLOORSMAX_AVG                          -0.091865\n",
       "CODE_GENDER_F                          -0.096785\n",
       "NAME_EDUCATION_TYPE_Higher education   -0.107872\n",
       "EXT_SOURCE_2                           -0.273251\n",
       "EXT_SOURCE_1                           -0.283242\n",
       "EXT_SOURCE_3                           -0.306343\n",
       "FLAG_MOBIL                                   NaN\n",
       "FLAG_DOCUMENT_12                             NaN\n",
       "Name: TARGET, dtype: float64"
      ]
     },
     "execution_count": 33,
     "metadata": {},
     "output_type": "execute_result"
    }
   ],
   "source": [
    "#checking the bottom 20 correlation values\n",
    "\n",
    "correlations.tail(20)"
   ]
  },
  {
   "cell_type": "markdown",
   "id": "c7e095f7",
   "metadata": {},
   "source": [
    "#### Showcasing one of the key engineering techniques before building models: feature engineering\n",
    "#### For this assignment, we will be limiting our approach to a few of the key columns identified based on the correlation values"
   ]
  },
  {
   "cell_type": "code",
   "execution_count": 34,
   "id": "a51378f6",
   "metadata": {},
   "outputs": [],
   "source": [
    "# lets make a new dataframe for the features which will be utilised to form a polynomial as part of feature engineering\n",
    "pFeaturesTrain= appTrainOHE[['EXT_SOURCE_1', 'EXT_SOURCE_2', 'EXT_SOURCE_3', 'DAYS_BIRTH', 'TARGET']]\n",
    "\n",
    "#lets keep the Target feature aside for now(it will be used later) and drop the Target column\n",
    "pTargetTrain= pFeaturesTrain['TARGET']\n",
    "pFeaturesTrain = pFeaturesTrain.drop(columns = ['TARGET'])\n",
    "\n",
    "\n",
    "#Similarly for test data\n",
    "pFeaturesTest= appTestOHE[['EXT_SOURCE_1', 'EXT_SOURCE_2', 'EXT_SOURCE_3', 'DAYS_BIRTH']]\n",
    "\n",
    "\n",
    "#For the missing values in both train and test dataset lets use the median of the values to impute\n",
    "# we will use the sklearn's SimpleImputer utility for this\n",
    "from sklearn.impute import SimpleImputer\n",
    "\n",
    "\n",
    "\n",
    "#creating an instance of the SimpleImputer to be used based on the median value\n",
    "sklImputerMedian = SimpleImputer(missing_values=np.nan, strategy='median')\n"
   ]
  },
  {
   "cell_type": "code",
   "execution_count": 35,
   "id": "cdd50d1f",
   "metadata": {},
   "outputs": [],
   "source": [
    "#Lets impute the missing values now\n",
    "pFeaturesTrain = sklImputerMedian.fit_transform(pFeaturesTrain) #fitting the median only on training data\n",
    "pFeaturesTest = sklImputerMedian.transform(pFeaturesTest) #using the same median (as fitted on training data) on the test data as well\n"
   ]
  },
  {
   "cell_type": "code",
   "execution_count": 36,
   "id": "c6c23680",
   "metadata": {},
   "outputs": [],
   "source": [
    "# Now creating the polynomial object with a degree of 3: Actual Feature Engineering step\n",
    "#using PolynomialFeatures utility from the sklearn library \n",
    "\n",
    "from sklearn.preprocessing import PolynomialFeatures\n",
    "\n",
    "#instantiating the PolynomialFeatures class with a degree of 3 which will be used for actual feature transformation\n",
    "pObject= PolynomialFeatures(degree = 3)"
   ]
  },
  {
   "cell_type": "code",
   "execution_count": 37,
   "id": "c5def9dd",
   "metadata": {
    "scrolled": false
   },
   "outputs": [
    {
     "name": "stdout",
     "output_type": "stream",
     "text": [
      "Polynomial Features shape for train:  (49952, 35)\n",
      "Polynomial Features shape for test:  (48744, 35)\n"
     ]
    }
   ],
   "source": [
    "#now, we need to fit the training features  'pFeaturesTrain' before transforming the train and test features as a polynomial combo\n",
    "\n",
    "pObject.fit(pFeaturesTrain)\n",
    "\n",
    "#transforming the train and test polynomial features using the fitted object above:\n",
    "\n",
    "pFeaturesTrain = pObject.transform(pFeaturesTrain)\n",
    "pFeaturesTest = pObject.transform(pFeaturesTest)\n",
    "print('Polynomial Features shape for train: ', pFeaturesTrain.shape)\n",
    "print('Polynomial Features shape for test: ', pFeaturesTest.shape)"
   ]
  },
  {
   "cell_type": "markdown",
   "id": "ceacf871",
   "metadata": {},
   "source": [
    "#### As seen above, there were 35 new features created out of 4 variables from our dataset based on various comination of interactions. We will need to run a recheck on these newly created features to identify their correaltion with the target variable."
   ]
  },
  {
   "cell_type": "code",
   "execution_count": 38,
   "id": "fb489517",
   "metadata": {},
   "outputs": [],
   "source": [
    "#First we will need to create a new dataframe of the features\n",
    "\n",
    "pFeaturesTrain = pd.DataFrame(pFeaturesTrain, \n",
    "                             columns = pObject.get_feature_names_out(['EXT_SOURCE_1', 'EXT_SOURCE_2', \n",
    "                                                                           'EXT_SOURCE_3', 'DAYS_BIRTH']))\n",
    "\n",
    "\n",
    "#We will then be appending the target column that we saved earlier as pTargetTrain\n",
    "\n",
    "pFeaturesTrain['TARGET'] = pTargetTrain"
   ]
  },
  {
   "cell_type": "code",
   "execution_count": 39,
   "id": "1f5e2bec",
   "metadata": {},
   "outputs": [],
   "source": [
    "# Now lets calculate the correlation of the newly created polynomial features with the target\n",
    "\n",
    "pCorrelations = pFeaturesTrain.corr()['TARGET'].sort_values(ascending= False)"
   ]
  },
  {
   "cell_type": "code",
   "execution_count": 40,
   "id": "af627b13",
   "metadata": {},
   "outputs": [
    {
     "name": "stdout",
     "output_type": "stream",
     "text": [
      "TARGET                                    1.000000\n",
      "EXT_SOURCE_3^2                            0.021928\n",
      "EXT_SOURCE_3                              0.021370\n",
      "EXT_SOURCE_3^3                            0.021339\n",
      "EXT_SOURCE_1 EXT_SOURCE_3^2               0.018879\n",
      "EXT_SOURCE_1 EXT_SOURCE_3                 0.013934\n",
      "EXT_SOURCE_2 EXT_SOURCE_3^2               0.013521\n",
      "EXT_SOURCE_2 EXT_SOURCE_3                 0.010044\n",
      "EXT_SOURCE_3 DAYS_BIRTH^2                 0.009688\n",
      "EXT_SOURCE_1 EXT_SOURCE_2 EXT_SOURCE_3    0.008569\n",
      "Name: TARGET, dtype: float64\n",
      "EXT_SOURCE_2^3                         -0.004234\n",
      "EXT_SOURCE_1                           -0.005533\n",
      "EXT_SOURCE_1 DAYS_BIRTH^2              -0.006411\n",
      "EXT_SOURCE_1^2                         -0.006465\n",
      "EXT_SOURCE_1^3                         -0.006831\n",
      "EXT_SOURCE_2 EXT_SOURCE_3 DAYS_BIRTH   -0.006885\n",
      "EXT_SOURCE_1 EXT_SOURCE_3 DAYS_BIRTH   -0.008440\n",
      "EXT_SOURCE_3 DAYS_BIRTH                -0.013670\n",
      "EXT_SOURCE_3^2 DAYS_BIRTH              -0.016576\n",
      "1                                            NaN\n",
      "Name: TARGET, dtype: float64\n"
     ]
    }
   ],
   "source": [
    "# showing top 10 positive and negative correlations\n",
    "print(pCorrelations.head(10))\n",
    "print(pCorrelations.tail(10))"
   ]
  },
  {
   "cell_type": "markdown",
   "id": "bbd1ac77",
   "metadata": {},
   "source": [
    "#### As seen above many of the newly created features abvoe have a greater correlation with the TARGET than the original features. However this does not mean that keep these features in our original dataset going to impact our final predictions in the expected way. Therefore we will try to keep a separate dataframe of train and test data with these features and will compare the difference of dataset with and without Feature engineering later.\n",
    "\n",
    "#### For now lets append these newly founded features to a copy of the original dataset"
   ]
  },
  {
   "cell_type": "code",
   "execution_count": 41,
   "id": "208cb8cf",
   "metadata": {
    "scrolled": false
   },
   "outputs": [
    {
     "name": "stdout",
     "output_type": "stream",
     "text": [
      "(49952, 278)\n",
      "(48744, 276)\n"
     ]
    }
   ],
   "source": [
    "#merge the newly created features dataframe witha copy of original training dataframe\n",
    "pFeaturesTrain['SK_ID_CURR'] = appTrainOHE['SK_ID_CURR']\n",
    "appTrainWithP= appTrainOHE.merge(pFeaturesTrain, on = 'SK_ID_CURR', how = 'left')\n",
    "print(appTrainWithP.shape)\n",
    "\n",
    "#creating a dataframe of the polynomial features for test data-set \n",
    "pFeaturesTest = pd.DataFrame(pFeaturesTest, columns = pObject.get_feature_names_out(['EXT_SOURCE_1', 'EXT_SOURCE_2', \n",
    "                                                                                'EXT_SOURCE_3', 'DAYS_BIRTH']))\n",
    "\n",
    "# now merging the newly created poly features dataframe (from test data) with a copy of original test dataframe\n",
    "\n",
    "pFeaturesTest['SK_ID_CURR'] = appTestOHE['SK_ID_CURR']\n",
    "appTestWithP = appTestOHE.merge(pFeaturesTest, on = 'SK_ID_CURR', how = 'left')\n",
    "\n",
    "print(appTestWithP.shape)\n",
    "#Once again we need to align the 2 dataframes created here\n",
    "\n",
    "appTrainWithP, appTestWithP = appTrainWithP.align(appTestWithP, join = 'inner', axis = 1)"
   ]
  },
  {
   "cell_type": "code",
   "execution_count": 42,
   "id": "a602f786",
   "metadata": {},
   "outputs": [
    {
     "data": {
      "text/plain": [
       "(49952, 242)"
      ]
     },
     "execution_count": 42,
     "metadata": {},
     "output_type": "execute_result"
    }
   ],
   "source": [
    "appTrainOHE.shape"
   ]
  },
  {
   "cell_type": "markdown",
   "id": "2a40ea84",
   "metadata": {},
   "source": [
    "Now lets recheck if our newly created datframes with original train and test data merged with respective polynomial features has the same count of features"
   ]
  },
  {
   "cell_type": "code",
   "execution_count": 43,
   "id": "e4b3d965",
   "metadata": {
    "scrolled": false
   },
   "outputs": [
    {
     "name": "stdout",
     "output_type": "stream",
     "text": [
      " Shape of training data with polynomial features:  (49952, 276)\n",
      "Shape of test data with polynomial features:   (48744, 276)\n"
     ]
    }
   ],
   "source": [
    "print(' Shape of training data with polynomial features: ', appTrainWithP.shape)\n",
    "print('Shape of test data with polynomial features:  ', appTestWithP.shape)"
   ]
  },
  {
   "cell_type": "markdown",
   "id": "b8894dde",
   "metadata": {},
   "source": [
    "### 8.Creating a new feature calculated based on an existing feature"
   ]
  },
  {
   "cell_type": "code",
   "execution_count": 44,
   "id": "ea8d69ec",
   "metadata": {},
   "outputs": [],
   "source": [
    "#creating a copy of train and test data\n",
    "app_train_calcFeature = appTrainOHE.copy()\n",
    "app_test_calcFeature = appTestOHE.copy()\n"
   ]
  },
  {
   "cell_type": "code",
   "execution_count": 45,
   "id": "067ee7a7",
   "metadata": {},
   "outputs": [],
   "source": [
    "app_train_calcFeature['DAYS_EMPLOYED_PERCENT'] = app_train_calcFeature['DAYS_EMPLOYED'] / app_train_calcFeature['DAYS_BIRTH']"
   ]
  },
  {
   "cell_type": "code",
   "execution_count": 46,
   "id": "1b56dabc",
   "metadata": {},
   "outputs": [],
   "source": [
    "app_test_calcFeature['DAYS_EMPLOYED_PERCENT'] = app_test_calcFeature['DAYS_EMPLOYED'] / app_test_calcFeature['DAYS_BIRTH']"
   ]
  },
  {
   "cell_type": "code",
   "execution_count": 47,
   "id": "885c2bf9",
   "metadata": {
    "scrolled": true
   },
   "outputs": [
    {
     "data": {
      "image/png": "[encoded data removed]",
      "text/plain": [
       "<Figure size 1200x2000 with 1 Axes>"
      ]
     },
     "metadata": {},
     "output_type": "display_data"
    }
   ],
   "source": [
    "plt.figure(figsize = (12, 20))\n",
    "# iterate through the new features\n",
    "for i, feature in enumerate(['DAYS_EMPLOYED_PERCENT']):\n",
    "    \n",
    "    # create a new subplot for each source\n",
    "    plt.subplot(4, 1, i + 1)\n",
    "    # plot repaid loans\n",
    "    sns.kdeplot(app_train_calcFeature.loc[app_train_calcFeature['TARGET'] == 0, feature], label = 'target == 0')\n",
    "    # plot loans that were not repaid\n",
    "    sns.kdeplot(app_train_calcFeature.loc[app_train_calcFeature['TARGET'] == 1, feature], label = 'target == 1')\n",
    "    \n",
    "    # Label the plots\n",
    "    plt.title('Distribution of %s by Target Value' % feature)\n",
    "    plt.xlabel('%s' % feature); plt.ylabel('Density');\n",
    "    \n",
    "plt.tight_layout(h_pad = 2.5)"
   ]
  },
  {
   "cell_type": "markdown",
   "id": "25ae3590",
   "metadata": {},
   "source": [
    "#### Based on the graph here, nothing siginifcant can be deduced. Lets wait and watch,"
   ]
  },
  {
   "cell_type": "markdown",
   "id": "c38358f2",
   "metadata": {},
   "source": [
    "#### As we have already processed the categorical variables using one hot encoding, we will now use all of the features to create our model. However, we still need to preprocess our data in terms of filling in the missing values(imputation) for the features and also normalizing the numerical features(i.e. feature scaling)"
   ]
  },
  {
   "cell_type": "code",
   "execution_count": 48,
   "id": "1e7b97ed",
   "metadata": {},
   "outputs": [],
   "source": [
    "# pulling out the label from the training data\n",
    "if 'TARGET' in appTrainOHE:\n",
    "    X_train = appTrainOHE.drop(columns = ['TARGET'])\n",
    "else:\n",
    "    X_train = appTrainOHE.copy()\n",
    "    \n",
    "\n",
    "# creating a list of Feature names\n",
    "features = list(X_train.columns)\n",
    "\n",
    "# creating copy of the test data\n",
    "X_test_fromTrain = appTestOHE.copy()\n",
    "\n",
    "X_test=X_testOHE.copy()"
   ]
  },
  {
   "cell_type": "code",
   "execution_count": 49,
   "id": "e02dcf7d",
   "metadata": {},
   "outputs": [
    {
     "name": "stdout",
     "output_type": "stream",
     "text": [
      "Training data shape:  (49952, 241)\n",
      "Test data shape:  (48744, 241)\n",
      "test data from appTrain.csv:  (60000, 244)\n"
     ]
    }
   ],
   "source": [
    "# Median imputation of missing values\n",
    "#For imputing, we will once again use the sklearn's SimpleImputer utility for this\n",
    "from sklearn.impute import SimpleImputer\n",
    "\n",
    "#creating instance of SimpleImputer\n",
    "simpleImputer = SimpleImputer(strategy = 'median')\n",
    "\n",
    "\n",
    "# Fit on the training data\n",
    "simpleImputer.fit(X_train)\n",
    "\n",
    "# Transform both training and testing data\n",
    "X_train = simpleImputer.transform(X_train)\n",
    "X_test_fromTrain = simpleImputer.transform(X_test_fromTrain) ###Searchme1\n",
    "#X_test= simpleImputer.transform(X_test)\n",
    "\n",
    "# for scaling each of the numerical features to 0-1\n",
    "#importing MinMaxScaler from sklearn:\n",
    "from sklearn.preprocessing import MinMaxScaler\n",
    "#creating instance of MinMaxScaler\n",
    "scaler = MinMaxScaler(feature_range = (0, 1))\n",
    "\n",
    "\n",
    "\n",
    "# Repeat with the scaler\n",
    "scaler.fit(X_train)\n",
    "X_train = scaler.transform(X_train)\n",
    "X_test_fromTrain = scaler.transform(X_test_fromTrain)###Searchme1\n",
    "#X_test= scaler.transform(X_test)\n",
    "\n",
    "print('Training data shape: ', X_train.shape)\n",
    "print('Test data shape: ', X_test_fromTrain.shape)\n",
    "print(\"test data from appTrain.csv: \", X_test.shape)"
   ]
  }
 ],
 "metadata": {
  "kernelspec": {
   "display_name": "Python 3 (ipykernel)",
   "language": "python",
   "name": "python3"
  },
  "language_info": {
   "codemirror_mode": {
    "name": "ipython",
    "version": 3
   },
   "file_extension": ".py",
   "mimetype": "text/x-python",
   "name": "python",
   "nbconvert_exporter": "python",
   "pygments_lexer": "ipython3",
   "version": "3.9.13"
  },
  "varInspector": {
   "cols": {
    "lenName": 16,
    "lenType": 16,
    "lenVar": 40
   },
   "kernels_config": {
    "python": {
     "delete_cmd_postfix": "",
     "delete_cmd_prefix": "del ",
     "library": "var_list.py",
     "varRefreshCmd": "print(var_dic_list())"
    },
    "r": {
     "delete_cmd_postfix": ") ",
     "delete_cmd_prefix": "rm(",
     "library": "var_list.r",
     "varRefreshCmd": "cat(var_dic_list()) "
    }
   },
   "types_to_exclude": [
    "module",
    "function",
    "builtin_function_or_method",
    "instance",
    "_Feature"
   ],
   "window_display": false
  }
 },
 "nbformat": 4,
 "nbformat_minor": 5
}
